{
 "cells": [
  {
   "cell_type": "code",
   "execution_count": 10,
   "metadata": {},
   "outputs": [
    {
     "name": "stdout",
     "output_type": "stream",
     "text": [
      "Defaulting to user installation because normal site-packages is not writeable\n",
      "Requirement already satisfied: scikit-learn in /home/nas/.local/lib/python3.10/site-packages (1.2.2)\n",
      "Requirement already satisfied: threadpoolctl>=2.0.0 in /home/nas/.local/lib/python3.10/site-packages (from scikit-learn) (3.1.0)\n",
      "Requirement already satisfied: scipy>=1.3.2 in /home/nas/.local/lib/python3.10/site-packages (from scikit-learn) (1.10.1)\n",
      "Requirement already satisfied: numpy>=1.17.3 in /usr/lib/python3/dist-packages (from scikit-learn) (1.21.5)\n",
      "Requirement already satisfied: joblib>=1.1.1 in /home/nas/.local/lib/python3.10/site-packages (from scikit-learn) (1.2.0)\n",
      "Note: you may need to restart the kernel to use updated packages.\n"
     ]
    }
   ],
   "source": [
    "pip install -U scikit-learn"
   ]
  },
  {
   "cell_type": "code",
   "execution_count": 25,
   "metadata": {},
   "outputs": [],
   "source": [
    "import pandas as pd\n",
    "from sklearn.model_selection import train_test_split\n",
    "from sklearn.ensemble import RandomForestClassifier\n",
    "from sklearn.metrics import accuracy_score\n",
    "from numpy import isnan\n",
    "\n",
    "# Load data\n",
    "data = pd.read_csv('fraud_data.csv')\n",
    "\n",
    "data.fillna(0, inplace=True)\n",
    "\n",
    "# Convert time feature to numerical representation\n",
    "data['Time'] = pd.to_datetime(data['Time'], format='%M:%S').dt.minute * 60 + pd.to_datetime(data['Time'], format='%M:%S').dt.second\n",
    "\n",
    "\n",
    "# Convert currency feature to numerical representation\n",
    "data['Amount'] = data['Amount'].replace({'\\$': ''}, regex=True).astype(float)\n",
    "\n",
    "# Convert categorical feature to numerical representation\n",
    "data['Use Chip'] = data['Use Chip'].astype('category').cat.codes\n",
    "\n",
    "# Convert categorical feature to numerical representation\n",
    "data['Merchant State'] = data['Merchant State'].astype('category').cat.codes\n",
    "\n",
    "# Convert categorical feature to numerical representation\n",
    "data['Merchant City'] = data['Merchant City'].astype('category').cat.codes\n",
    "\n",
    "# Convert categorical feature to numerical representation\n",
    "data['Errors'] = data['Errors'].astype('category').cat.codes\n",
    "\n",
    "\n",
    "\n",
    "# Split data into train and test sets\n",
    "X_train, X_test, y_train, y_test = train_test_split(data.drop('IsFraud', axis=1), data['IsFraud'], test_size=0.25, random_state=80)\n",
    "\n",
    "# Train RandomForestClassifier\n",
    "clf = RandomForestClassifier()\n",
    "clf.fit(X_train, y_train)\n",
    "\n",
    "# Make predictions on test set\n",
    "y_pred = clf.predict(X_test)\n",
    "\n",
    "# Calculate accuracy score\n",
    "accuracy = accuracy_score(y_test, y_pred)\n",
    "\n",
    "print(\"Accuracy:\", accuracy)\n",
    "\n",
    "# Prepare new sample data\n",
    "new_sample =  pd.read_csv('test.csv')\n",
    "\n",
    "# Convert time feature to numerical representation\n",
    "new_sample['Time'] = pd.to_datetime(new_sample['Time'], format='%M:%S').dt.minute * 60 + pd.to_datetime(new_sample['Time'], format='%M:%S').dt.second\n",
    "\n",
    "# Convert currency feature to numerical representation\n",
    "new_sample['Amount'] = new_sample['Amount']\n",
    "\n",
    "\n",
    "# Convert categorical feature to numerical representation\n",
    "new_sample['Use Chip'] = new_sample['Use Chip'].astype('category').cat.codes\n",
    "\n",
    "# Convert categorical feature to numerical representation\n",
    "new_sample['Merchant State'] = new_sample['Merchant State'].astype('category').cat.codes\n",
    "\n",
    "# Convert categorical feature to numerical representation\n",
    "new_sample['Merchant City'] = new_sample['Merchant City'].astype('category').cat.codes\n",
    "\n",
    "# Convert categorical feature to numerical representation\n",
    "new_sample['Errors'] = new_sample['Errors'].astype('category').cat.codes\n",
    "\n",
    "# Predict the target variable for the new sample\n",
    "y_pred = clf.predict(new_sample)\n",
    "\n",
    "# Print the predicted target variable values\n",
    "print(y_pred)\n",
    "\n"
   ]
  },
  {
   "cell_type": "code",
   "execution_count": null,
   "metadata": {},
   "outputs": [],
   "source": []
  }
 ],
 "metadata": {
  "kernelspec": {
   "display_name": "Python 3",
   "language": "python",
   "name": "python3"
  },
  "language_info": {
   "codemirror_mode": {
    "name": "ipython",
    "version": 3
   },
   "file_extension": ".py",
   "mimetype": "text/x-python",
   "name": "python",
   "nbconvert_exporter": "python",
   "pygments_lexer": "ipython3",
   "version": "3.10.6"
  },
  "orig_nbformat": 4
 },
 "nbformat": 4,
 "nbformat_minor": 2
}
